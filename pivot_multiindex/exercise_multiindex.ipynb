{
 "cells": [
  {
   "cell_type": "code",
   "execution_count": 1,
   "id": "9adaa462",
   "metadata": {},
   "outputs": [],
   "source": [
    "import pandas as pd\n",
    "import numpy as np"
   ]
  },
  {
   "cell_type": "code",
   "execution_count": 2,
   "id": "98a184df",
   "metadata": {},
   "outputs": [
    {
     "data": {
      "text/html": [
       "<div>\n",
       "<style scoped>\n",
       "    .dataframe tbody tr th:only-of-type {\n",
       "        vertical-align: middle;\n",
       "    }\n",
       "\n",
       "    .dataframe tbody tr th {\n",
       "        vertical-align: top;\n",
       "    }\n",
       "\n",
       "    .dataframe thead th {\n",
       "        text-align: right;\n",
       "    }\n",
       "</style>\n",
       "<table border=\"1\" class=\"dataframe\">\n",
       "  <thead>\n",
       "    <tr style=\"text-align: right;\">\n",
       "      <th></th>\n",
       "      <th></th>\n",
       "      <th>YEAR</th>\n",
       "      <th>MONTH</th>\n",
       "      <th>DAY</th>\n",
       "      <th>DAY_OF_WEEK</th>\n",
       "      <th>FLIGHT_NUMBER</th>\n",
       "      <th>TAIL_NUMBER</th>\n",
       "      <th>ORIGIN_AIRPORT</th>\n",
       "      <th>SCHEDULED_DEPARTURE</th>\n",
       "      <th>DEPARTURE_TIME</th>\n",
       "      <th>DEPARTURE_DELAY</th>\n",
       "      <th>...</th>\n",
       "      <th>ARRIVAL_TIME</th>\n",
       "      <th>ARRIVAL_DELAY</th>\n",
       "      <th>DIVERTED</th>\n",
       "      <th>CANCELLED</th>\n",
       "      <th>CANCELLATION_REASON</th>\n",
       "      <th>AIR_SYSTEM_DELAY</th>\n",
       "      <th>SECURITY_DELAY</th>\n",
       "      <th>AIRLINE_DELAY</th>\n",
       "      <th>LATE_AIRCRAFT_DELAY</th>\n",
       "      <th>WEATHER_DELAY</th>\n",
       "    </tr>\n",
       "    <tr>\n",
       "      <th>DESTINATION_AIRPORT</th>\n",
       "      <th>AIRLINE</th>\n",
       "      <th></th>\n",
       "      <th></th>\n",
       "      <th></th>\n",
       "      <th></th>\n",
       "      <th></th>\n",
       "      <th></th>\n",
       "      <th></th>\n",
       "      <th></th>\n",
       "      <th></th>\n",
       "      <th></th>\n",
       "      <th></th>\n",
       "      <th></th>\n",
       "      <th></th>\n",
       "      <th></th>\n",
       "      <th></th>\n",
       "      <th></th>\n",
       "      <th></th>\n",
       "      <th></th>\n",
       "      <th></th>\n",
       "      <th></th>\n",
       "      <th></th>\n",
       "    </tr>\n",
       "  </thead>\n",
       "  <tbody>\n",
       "    <tr>\n",
       "      <th rowspan=\"5\" valign=\"top\">ABE</th>\n",
       "      <th>DL</th>\n",
       "      <td>2015</td>\n",
       "      <td>1</td>\n",
       "      <td>4</td>\n",
       "      <td>7</td>\n",
       "      <td>2036</td>\n",
       "      <td>N979AT</td>\n",
       "      <td>ATL</td>\n",
       "      <td>2101</td>\n",
       "      <td>2101.0</td>\n",
       "      <td>0.0</td>\n",
       "      <td>...</td>\n",
       "      <td>2252.0</td>\n",
       "      <td>1.0</td>\n",
       "      <td>0</td>\n",
       "      <td>0</td>\n",
       "      <td>NaN</td>\n",
       "      <td>NaN</td>\n",
       "      <td>NaN</td>\n",
       "      <td>NaN</td>\n",
       "      <td>NaN</td>\n",
       "      <td>NaN</td>\n",
       "    </tr>\n",
       "    <tr>\n",
       "      <th>DL</th>\n",
       "      <td>2015</td>\n",
       "      <td>1</td>\n",
       "      <td>5</td>\n",
       "      <td>1</td>\n",
       "      <td>1411</td>\n",
       "      <td>N989AT</td>\n",
       "      <td>ATL</td>\n",
       "      <td>2034</td>\n",
       "      <td>2032.0</td>\n",
       "      <td>-2.0</td>\n",
       "      <td>...</td>\n",
       "      <td>2227.0</td>\n",
       "      <td>2.0</td>\n",
       "      <td>0</td>\n",
       "      <td>0</td>\n",
       "      <td>NaN</td>\n",
       "      <td>NaN</td>\n",
       "      <td>NaN</td>\n",
       "      <td>NaN</td>\n",
       "      <td>NaN</td>\n",
       "      <td>NaN</td>\n",
       "    </tr>\n",
       "    <tr>\n",
       "      <th>DL</th>\n",
       "      <td>2015</td>\n",
       "      <td>1</td>\n",
       "      <td>6</td>\n",
       "      <td>2</td>\n",
       "      <td>1411</td>\n",
       "      <td>N979AT</td>\n",
       "      <td>ATL</td>\n",
       "      <td>2034</td>\n",
       "      <td>2032.0</td>\n",
       "      <td>-2.0</td>\n",
       "      <td>...</td>\n",
       "      <td>2221.0</td>\n",
       "      <td>-4.0</td>\n",
       "      <td>0</td>\n",
       "      <td>0</td>\n",
       "      <td>NaN</td>\n",
       "      <td>NaN</td>\n",
       "      <td>NaN</td>\n",
       "      <td>NaN</td>\n",
       "      <td>NaN</td>\n",
       "      <td>NaN</td>\n",
       "    </tr>\n",
       "    <tr>\n",
       "      <th>DL</th>\n",
       "      <td>2015</td>\n",
       "      <td>1</td>\n",
       "      <td>7</td>\n",
       "      <td>3</td>\n",
       "      <td>1411</td>\n",
       "      <td>N958AT</td>\n",
       "      <td>ATL</td>\n",
       "      <td>2034</td>\n",
       "      <td>2031.0</td>\n",
       "      <td>-3.0</td>\n",
       "      <td>...</td>\n",
       "      <td>2226.0</td>\n",
       "      <td>1.0</td>\n",
       "      <td>0</td>\n",
       "      <td>0</td>\n",
       "      <td>NaN</td>\n",
       "      <td>NaN</td>\n",
       "      <td>NaN</td>\n",
       "      <td>NaN</td>\n",
       "      <td>NaN</td>\n",
       "      <td>NaN</td>\n",
       "    </tr>\n",
       "    <tr>\n",
       "      <th>DL</th>\n",
       "      <td>2015</td>\n",
       "      <td>1</td>\n",
       "      <td>8</td>\n",
       "      <td>4</td>\n",
       "      <td>1411</td>\n",
       "      <td>N994AT</td>\n",
       "      <td>ATL</td>\n",
       "      <td>2034</td>\n",
       "      <td>2030.0</td>\n",
       "      <td>-4.0</td>\n",
       "      <td>...</td>\n",
       "      <td>2223.0</td>\n",
       "      <td>-2.0</td>\n",
       "      <td>0</td>\n",
       "      <td>0</td>\n",
       "      <td>NaN</td>\n",
       "      <td>NaN</td>\n",
       "      <td>NaN</td>\n",
       "      <td>NaN</td>\n",
       "      <td>NaN</td>\n",
       "      <td>NaN</td>\n",
       "    </tr>\n",
       "  </tbody>\n",
       "</table>\n",
       "<p>5 rows × 29 columns</p>\n",
       "</div>"
      ],
      "text/plain": [
       "                             YEAR  MONTH  DAY  DAY_OF_WEEK  FLIGHT_NUMBER  \\\n",
       "DESTINATION_AIRPORT AIRLINE                                                 \n",
       "ABE                 DL       2015      1    4            7           2036   \n",
       "                    DL       2015      1    5            1           1411   \n",
       "                    DL       2015      1    6            2           1411   \n",
       "                    DL       2015      1    7            3           1411   \n",
       "                    DL       2015      1    8            4           1411   \n",
       "\n",
       "                            TAIL_NUMBER ORIGIN_AIRPORT  SCHEDULED_DEPARTURE  \\\n",
       "DESTINATION_AIRPORT AIRLINE                                                   \n",
       "ABE                 DL           N979AT            ATL                 2101   \n",
       "                    DL           N989AT            ATL                 2034   \n",
       "                    DL           N979AT            ATL                 2034   \n",
       "                    DL           N958AT            ATL                 2034   \n",
       "                    DL           N994AT            ATL                 2034   \n",
       "\n",
       "                             DEPARTURE_TIME  DEPARTURE_DELAY  ...  \\\n",
       "DESTINATION_AIRPORT AIRLINE                                   ...   \n",
       "ABE                 DL               2101.0              0.0  ...   \n",
       "                    DL               2032.0             -2.0  ...   \n",
       "                    DL               2032.0             -2.0  ...   \n",
       "                    DL               2031.0             -3.0  ...   \n",
       "                    DL               2030.0             -4.0  ...   \n",
       "\n",
       "                             ARRIVAL_TIME  ARRIVAL_DELAY  DIVERTED  CANCELLED  \\\n",
       "DESTINATION_AIRPORT AIRLINE                                                     \n",
       "ABE                 DL             2252.0            1.0         0          0   \n",
       "                    DL             2227.0            2.0         0          0   \n",
       "                    DL             2221.0           -4.0         0          0   \n",
       "                    DL             2226.0            1.0         0          0   \n",
       "                    DL             2223.0           -2.0         0          0   \n",
       "\n",
       "                             CANCELLATION_REASON  AIR_SYSTEM_DELAY  \\\n",
       "DESTINATION_AIRPORT AIRLINE                                          \n",
       "ABE                 DL                       NaN               NaN   \n",
       "                    DL                       NaN               NaN   \n",
       "                    DL                       NaN               NaN   \n",
       "                    DL                       NaN               NaN   \n",
       "                    DL                       NaN               NaN   \n",
       "\n",
       "                             SECURITY_DELAY  AIRLINE_DELAY  \\\n",
       "DESTINATION_AIRPORT AIRLINE                                  \n",
       "ABE                 DL                  NaN            NaN   \n",
       "                    DL                  NaN            NaN   \n",
       "                    DL                  NaN            NaN   \n",
       "                    DL                  NaN            NaN   \n",
       "                    DL                  NaN            NaN   \n",
       "\n",
       "                             LATE_AIRCRAFT_DELAY  WEATHER_DELAY  \n",
       "DESTINATION_AIRPORT AIRLINE                                      \n",
       "ABE                 DL                       NaN            NaN  \n",
       "                    DL                       NaN            NaN  \n",
       "                    DL                       NaN            NaN  \n",
       "                    DL                       NaN            NaN  \n",
       "                    DL                       NaN            NaN  \n",
       "\n",
       "[5 rows x 29 columns]"
      ]
     },
     "execution_count": 2,
     "metadata": {},
     "output_type": "execute_result"
    }
   ],
   "source": [
    "dfo = pd.read_csv('flights2.csv.gz', low_memory=False)\n",
    "df = dfo.set_index(['DESTINATION_AIRPORT', 'AIRLINE'])\n",
    "df = df.sort_index()\n",
    "df.head()"
   ]
  },
  {
   "cell_type": "code",
   "execution_count": 3,
   "id": "b038f8f8",
   "metadata": {},
   "outputs": [
    {
     "data": {
      "text/plain": [
       "MultiIndex([('ABE', 'DL'),\n",
       "            ('ABE', 'DL'),\n",
       "            ('ABE', 'DL'),\n",
       "            ('ABE', 'DL'),\n",
       "            ('ABE', 'DL'),\n",
       "            ('ABE', 'DL'),\n",
       "            ('ABE', 'DL'),\n",
       "            ('ABE', 'DL'),\n",
       "            ('ABE', 'DL'),\n",
       "            ('ABE', 'DL'),\n",
       "            ...\n",
       "            ('YUM', 'OO'),\n",
       "            ('YUM', 'OO'),\n",
       "            ('YUM', 'OO'),\n",
       "            ('YUM', 'OO'),\n",
       "            ('YUM', 'OO'),\n",
       "            ('YUM', 'OO'),\n",
       "            ('YUM', 'OO'),\n",
       "            ('YUM', 'OO'),\n",
       "            ('YUM', 'OO'),\n",
       "            ('YUM', 'OO')],\n",
       "           names=['DESTINATION_AIRPORT', 'AIRLINE'], length=469968)"
      ]
     },
     "execution_count": 3,
     "metadata": {},
     "output_type": "execute_result"
    }
   ],
   "source": [
    "df.index"
   ]
  },
  {
   "cell_type": "code",
   "execution_count": 4,
   "id": "475f8423",
   "metadata": {},
   "outputs": [
    {
     "data": {
      "text/plain": [
       "Index(['YEAR', 'MONTH', 'DAY', 'DAY_OF_WEEK', 'AIRLINE', 'FLIGHT_NUMBER',\n",
       "       'TAIL_NUMBER', 'ORIGIN_AIRPORT', 'DESTINATION_AIRPORT',\n",
       "       'SCHEDULED_DEPARTURE', 'DEPARTURE_TIME', 'DEPARTURE_DELAY', 'TAXI_OUT',\n",
       "       'WHEELS_OFF', 'SCHEDULED_TIME', 'ELAPSED_TIME', 'AIR_TIME', 'DISTANCE',\n",
       "       'WHEELS_ON', 'TAXI_IN', 'SCHEDULED_ARRIVAL', 'ARRIVAL_TIME',\n",
       "       'ARRIVAL_DELAY', 'DIVERTED', 'CANCELLED', 'CANCELLATION_REASON',\n",
       "       'AIR_SYSTEM_DELAY', 'SECURITY_DELAY', 'AIRLINE_DELAY',\n",
       "       'LATE_AIRCRAFT_DELAY', 'WEATHER_DELAY'],\n",
       "      dtype='object')"
      ]
     },
     "execution_count": 4,
     "metadata": {},
     "output_type": "execute_result"
    }
   ],
   "source": [
    "dfo.columns"
   ]
  },
  {
   "cell_type": "code",
   "execution_count": 5,
   "id": "655950ae",
   "metadata": {},
   "outputs": [
    {
     "data": {
      "text/plain": [
       "array(['AS', 'AA', 'US', ..., 'F9', 'F9', 'UA'], dtype=object)"
      ]
     },
     "metadata": {},
     "output_type": "display_data"
    },
    {
     "data": {
      "text/plain": [
       "array(['SEA', 'PBI', 'CLT', ..., 'TPA', 'ATL', 'DEN'], dtype=object)"
      ]
     },
     "metadata": {},
     "output_type": "display_data"
    }
   ],
   "source": [
    "airlines = dfo.AIRLINE.to_numpy()\n",
    "dests = dfo.DESTINATION_AIRPORT.to_numpy()\n",
    "display(airlines, dests)"
   ]
  },
  {
   "cell_type": "code",
   "execution_count": 6,
   "id": "c00dcac4",
   "metadata": {},
   "outputs": [
    {
     "data": {
      "text/plain": [
       "MultiIndex([('AS', 'SEA'),\n",
       "            ('AA', 'PBI'),\n",
       "            ('US', 'CLT'),\n",
       "            ('AA', 'MIA'),\n",
       "            ('AS', 'ANC'),\n",
       "            ('DL', 'MSP'),\n",
       "            ('NK', 'MSP'),\n",
       "            ('US', 'CLT'),\n",
       "            ('AA', 'DFW'),\n",
       "            ('DL', 'ATL'),\n",
       "            ...\n",
       "            ('UA', 'SFO'),\n",
       "            ('B6', 'JFK'),\n",
       "            ('US', 'MSP'),\n",
       "            ('B6', 'MCO'),\n",
       "            ('B6', 'PSE'),\n",
       "            ('B6', 'BQN'),\n",
       "            ('DL', 'DTW'),\n",
       "            ('F9', 'TPA'),\n",
       "            ('F9', 'ATL'),\n",
       "            ('UA', 'DEN')],\n",
       "           length=469968)"
      ]
     },
     "execution_count": 6,
     "metadata": {},
     "output_type": "execute_result"
    }
   ],
   "source": [
    "pd.MultiIndex.from_arrays([airlines, dests])"
   ]
  },
  {
   "cell_type": "code",
   "execution_count": 7,
   "id": "d0c002b7",
   "metadata": {},
   "outputs": [
    {
     "data": {
      "text/plain": [
       "[('AS', 'SEA'),\n",
       " ('AA', 'PBI'),\n",
       " ('US', 'CLT'),\n",
       " ('AA', 'MIA'),\n",
       " ('AS', 'ANC'),\n",
       " ('DL', 'MSP'),\n",
       " ('NK', 'MSP'),\n",
       " ('US', 'CLT'),\n",
       " ('AA', 'DFW'),\n",
       " ('DL', 'ATL')]"
      ]
     },
     "execution_count": 7,
     "metadata": {},
     "output_type": "execute_result"
    }
   ],
   "source": [
    "tups = [tuple(x) for x in dfo[['AIRLINE', 'DESTINATION_AIRPORT']].to_numpy()[:10]]\n",
    "tups"
   ]
  },
  {
   "cell_type": "code",
   "execution_count": 8,
   "id": "f72ef615",
   "metadata": {},
   "outputs": [
    {
     "data": {
      "text/plain": [
       "MultiIndex([('AS', 'SEA'),\n",
       "            ('AA', 'PBI'),\n",
       "            ('US', 'CLT'),\n",
       "            ('AA', 'MIA'),\n",
       "            ('AS', 'ANC'),\n",
       "            ('DL', 'MSP'),\n",
       "            ('NK', 'MSP'),\n",
       "            ('US', 'CLT'),\n",
       "            ('AA', 'DFW'),\n",
       "            ('DL', 'ATL')],\n",
       "           )"
      ]
     },
     "execution_count": 8,
     "metadata": {},
     "output_type": "execute_result"
    }
   ],
   "source": [
    "pd.MultiIndex.from_tuples(tups)"
   ]
  },
  {
   "cell_type": "markdown",
   "id": "c1b92aa4",
   "metadata": {},
   "source": [
    "cross product"
   ]
  },
  {
   "cell_type": "code",
   "execution_count": 9,
   "id": "6574c387",
   "metadata": {},
   "outputs": [
    {
     "data": {
      "text/plain": [
       "MultiIndex([(1, 2000, 'Sem 1'),\n",
       "            (1, 2000, 'Sem 2'),\n",
       "            (1, 2001, 'Sem 1'),\n",
       "            (1, 2001, 'Sem 2'),\n",
       "            (2, 2000, 'Sem 1'),\n",
       "            (2, 2000, 'Sem 2'),\n",
       "            (2, 2001, 'Sem 1'),\n",
       "            (2, 2001, 'Sem 2'),\n",
       "            (3, 2000, 'Sem 1'),\n",
       "            (3, 2000, 'Sem 2'),\n",
       "            (3, 2001, 'Sem 1'),\n",
       "            (3, 2001, 'Sem 2')],\n",
       "           )"
      ]
     },
     "execution_count": 9,
     "metadata": {},
     "output_type": "execute_result"
    }
   ],
   "source": [
    "pd.MultiIndex.from_product([[1, 2, 3], [2000, 2001], ['Sem 1', 'Sem 2']])"
   ]
  },
  {
   "cell_type": "markdown",
   "id": "414d97a8",
   "metadata": {},
   "source": [
    "Naming your index"
   ]
  },
  {
   "cell_type": "code",
   "execution_count": 10,
   "id": "9c2dbf1d",
   "metadata": {},
   "outputs": [
    {
     "data": {
      "text/plain": [
       "MultiIndex([(1, 2000, 'Sem 1'),\n",
       "            (1, 2000, 'Sem 2'),\n",
       "            (1, 2001, 'Sem 1'),\n",
       "            (1, 2001, 'Sem 2'),\n",
       "            (2, 2000, 'Sem 1'),\n",
       "            (2, 2000, 'Sem 2'),\n",
       "            (2, 2001, 'Sem 1'),\n",
       "            (2, 2001, 'Sem 2'),\n",
       "            (3, 2000, 'Sem 1'),\n",
       "            (3, 2000, 'Sem 2'),\n",
       "            (3, 2001, 'Sem 1'),\n",
       "            (3, 2001, 'Sem 2')],\n",
       "           )"
      ]
     },
     "execution_count": 10,
     "metadata": {},
     "output_type": "execute_result"
    }
   ],
   "source": [
    "index = pd.MultiIndex.from_product([[1, 2, 3], [2000, 2001], ['Sem 1', 'Sem 2']])\n",
    "index"
   ]
  },
  {
   "cell_type": "code",
   "execution_count": 11,
   "id": "83857894",
   "metadata": {},
   "outputs": [
    {
     "data": {
      "text/plain": [
       "MultiIndex([(1, 2000, 'Sem 1'),\n",
       "            (1, 2000, 'Sem 2'),\n",
       "            (1, 2001, 'Sem 1'),\n",
       "            (1, 2001, 'Sem 2'),\n",
       "            (2, 2000, 'Sem 1'),\n",
       "            (2, 2000, 'Sem 2'),\n",
       "            (2, 2001, 'Sem 1'),\n",
       "            (2, 2001, 'Sem 2'),\n",
       "            (3, 2000, 'Sem 1'),\n",
       "            (3, 2000, 'Sem 2'),\n",
       "            (3, 2001, 'Sem 1'),\n",
       "            (3, 2001, 'Sem 2')],\n",
       "           names=['Student', 'Year', 'Sem'])"
      ]
     },
     "execution_count": 11,
     "metadata": {},
     "output_type": "execute_result"
    }
   ],
   "source": [
    "index.names = ['Student', 'Year', 'Sem']\n",
    "index"
   ]
  },
  {
   "cell_type": "code",
   "execution_count": 12,
   "id": "8b8436dd",
   "metadata": {},
   "outputs": [
    {
     "data": {
      "text/html": [
       "<div>\n",
       "<style scoped>\n",
       "    .dataframe tbody tr th:only-of-type {\n",
       "        vertical-align: middle;\n",
       "    }\n",
       "\n",
       "    .dataframe tbody tr th {\n",
       "        vertical-align: top;\n",
       "    }\n",
       "\n",
       "    .dataframe thead tr th {\n",
       "        text-align: left;\n",
       "    }\n",
       "</style>\n",
       "<table border=\"1\" class=\"dataframe\">\n",
       "  <thead>\n",
       "    <tr>\n",
       "      <th></th>\n",
       "      <th colspan=\"2\" halign=\"left\">Jack</th>\n",
       "      <th colspan=\"2\" halign=\"left\">Jill</th>\n",
       "    </tr>\n",
       "    <tr>\n",
       "      <th></th>\n",
       "      <th>Height</th>\n",
       "      <th>Age</th>\n",
       "      <th>Height</th>\n",
       "      <th>Age</th>\n",
       "    </tr>\n",
       "  </thead>\n",
       "  <tbody>\n",
       "    <tr>\n",
       "      <th>2000-01-01</th>\n",
       "      <td>1.1</td>\n",
       "      <td>40</td>\n",
       "      <td>0.90</td>\n",
       "      <td>30</td>\n",
       "    </tr>\n",
       "    <tr>\n",
       "      <th>2001-01-01</th>\n",
       "      <td>1.2</td>\n",
       "      <td>45</td>\n",
       "      <td>1.05</td>\n",
       "      <td>40</td>\n",
       "    </tr>\n",
       "    <tr>\n",
       "      <th>2002-01-01</th>\n",
       "      <td>1.3</td>\n",
       "      <td>65</td>\n",
       "      <td>1.30</td>\n",
       "      <td>55</td>\n",
       "    </tr>\n",
       "    <tr>\n",
       "      <th>2003-01-01</th>\n",
       "      <td>1.5</td>\n",
       "      <td>80</td>\n",
       "      <td>1.60</td>\n",
       "      <td>75</td>\n",
       "    </tr>\n",
       "  </tbody>\n",
       "</table>\n",
       "</div>"
      ],
      "text/plain": [
       "             Jack       Jill    \n",
       "           Height Age Height Age\n",
       "2000-01-01    1.1  40   0.90  30\n",
       "2001-01-01    1.2  45   1.05  40\n",
       "2002-01-01    1.3  65   1.30  55\n",
       "2003-01-01    1.5  80   1.60  75"
      ]
     },
     "execution_count": 12,
     "metadata": {},
     "output_type": "execute_result"
    }
   ],
   "source": [
    "data = [[1.1, 40, 0.9, 30], [1.2, 45, 1.05, 40], [1.3, 65, 1.3, 55], [1.5, 80, 1.6, 75]]\n",
    "columns = pd.MultiIndex.from_product([['Jack', 'Jill'], ['Height', 'Age']])\n",
    "rows = pd.to_datetime(['2000-01-01', '2001-01-01', '2002-01-01', '2003-01-01'])\n",
    "df2 = pd.DataFrame(data, columns=columns).set_index(rows)\n",
    "df2"
   ]
  },
  {
   "cell_type": "markdown",
   "id": "911c22e2",
   "metadata": {},
   "source": [
    "How to access above with a single column?"
   ]
  },
  {
   "cell_type": "code",
   "execution_count": 13,
   "id": "f8c10958",
   "metadata": {},
   "outputs": [
    {
     "data": {
      "text/html": [
       "<div>\n",
       "<style scoped>\n",
       "    .dataframe tbody tr th:only-of-type {\n",
       "        vertical-align: middle;\n",
       "    }\n",
       "\n",
       "    .dataframe tbody tr th {\n",
       "        vertical-align: top;\n",
       "    }\n",
       "\n",
       "    .dataframe thead th {\n",
       "        text-align: right;\n",
       "    }\n",
       "</style>\n",
       "<table border=\"1\" class=\"dataframe\">\n",
       "  <thead>\n",
       "    <tr style=\"text-align: right;\">\n",
       "      <th></th>\n",
       "      <th>Height</th>\n",
       "      <th>Age</th>\n",
       "    </tr>\n",
       "  </thead>\n",
       "  <tbody>\n",
       "    <tr>\n",
       "      <th>2000-01-01</th>\n",
       "      <td>1.1</td>\n",
       "      <td>40</td>\n",
       "    </tr>\n",
       "    <tr>\n",
       "      <th>2001-01-01</th>\n",
       "      <td>1.2</td>\n",
       "      <td>45</td>\n",
       "    </tr>\n",
       "    <tr>\n",
       "      <th>2002-01-01</th>\n",
       "      <td>1.3</td>\n",
       "      <td>65</td>\n",
       "    </tr>\n",
       "    <tr>\n",
       "      <th>2003-01-01</th>\n",
       "      <td>1.5</td>\n",
       "      <td>80</td>\n",
       "    </tr>\n",
       "  </tbody>\n",
       "</table>\n",
       "</div>"
      ],
      "text/plain": [
       "            Height  Age\n",
       "2000-01-01     1.1   40\n",
       "2001-01-01     1.2   45\n",
       "2002-01-01     1.3   65\n",
       "2003-01-01     1.5   80"
      ]
     },
     "execution_count": 13,
     "metadata": {},
     "output_type": "execute_result"
    }
   ],
   "source": [
    "df2['Jack']"
   ]
  },
  {
   "cell_type": "code",
   "execution_count": 14,
   "id": "8e88246b",
   "metadata": {},
   "outputs": [
    {
     "data": {
      "text/plain": [
       "2000-01-01    40\n",
       "2001-01-01    45\n",
       "2002-01-01    65\n",
       "2003-01-01    80\n",
       "Name: (Jack, Age), dtype: int64"
      ]
     },
     "execution_count": 14,
     "metadata": {},
     "output_type": "execute_result"
    }
   ],
   "source": [
    "df2.loc[:, ('Jack', 'Age')]"
   ]
  },
  {
   "cell_type": "code",
   "execution_count": 15,
   "id": "cd67f8cf",
   "metadata": {},
   "outputs": [
    {
     "data": {
      "text/plain": [
       "2000-01-01    40\n",
       "2001-01-01    45\n",
       "2002-01-01    65\n",
       "2003-01-01    80\n",
       "Name: (Jack, Age), dtype: int64"
      ]
     },
     "execution_count": 15,
     "metadata": {},
     "output_type": "execute_result"
    }
   ],
   "source": [
    "df2[('Jack', 'Age')]"
   ]
  },
  {
   "cell_type": "code",
   "execution_count": 22,
   "id": "7937ad2b",
   "metadata": {},
   "outputs": [
    {
     "data": {
      "text/html": [
       "<div>\n",
       "<style scoped>\n",
       "    .dataframe tbody tr th:only-of-type {\n",
       "        vertical-align: middle;\n",
       "    }\n",
       "\n",
       "    .dataframe tbody tr th {\n",
       "        vertical-align: top;\n",
       "    }\n",
       "\n",
       "    .dataframe thead tr th {\n",
       "        text-align: left;\n",
       "    }\n",
       "</style>\n",
       "<table border=\"1\" class=\"dataframe\">\n",
       "  <thead>\n",
       "    <tr>\n",
       "      <th></th>\n",
       "      <th>Jack</th>\n",
       "      <th>Jill</th>\n",
       "    </tr>\n",
       "    <tr>\n",
       "      <th></th>\n",
       "      <th>Height</th>\n",
       "      <th>Height</th>\n",
       "    </tr>\n",
       "  </thead>\n",
       "  <tbody>\n",
       "    <tr>\n",
       "      <th>2000-01-01</th>\n",
       "      <td>1.1</td>\n",
       "      <td>0.90</td>\n",
       "    </tr>\n",
       "    <tr>\n",
       "      <th>2001-01-01</th>\n",
       "      <td>1.2</td>\n",
       "      <td>1.05</td>\n",
       "    </tr>\n",
       "    <tr>\n",
       "      <th>2002-01-01</th>\n",
       "      <td>1.3</td>\n",
       "      <td>1.30</td>\n",
       "    </tr>\n",
       "    <tr>\n",
       "      <th>2003-01-01</th>\n",
       "      <td>1.5</td>\n",
       "      <td>1.60</td>\n",
       "    </tr>\n",
       "  </tbody>\n",
       "</table>\n",
       "</div>"
      ],
      "text/plain": [
       "             Jack   Jill\n",
       "           Height Height\n",
       "2000-01-01    1.1   0.90\n",
       "2001-01-01    1.2   1.05\n",
       "2002-01-01    1.3   1.30\n",
       "2003-01-01    1.5   1.60"
      ]
     },
     "execution_count": 22,
     "metadata": {},
     "output_type": "execute_result"
    }
   ],
   "source": [
    "idx = pd.IndexSlice\n",
    "df2.loc[:, idx[:, 'Height']]"
   ]
  },
  {
   "cell_type": "code",
   "execution_count": 29,
   "id": "0950659a",
   "metadata": {},
   "outputs": [
    {
     "data": {
      "text/html": [
       "<div>\n",
       "<style scoped>\n",
       "    .dataframe tbody tr th:only-of-type {\n",
       "        vertical-align: middle;\n",
       "    }\n",
       "\n",
       "    .dataframe tbody tr th {\n",
       "        vertical-align: top;\n",
       "    }\n",
       "\n",
       "    .dataframe thead th {\n",
       "        text-align: right;\n",
       "    }\n",
       "</style>\n",
       "<table border=\"1\" class=\"dataframe\">\n",
       "  <thead>\n",
       "    <tr style=\"text-align: right;\">\n",
       "      <th></th>\n",
       "      <th>Jack</th>\n",
       "      <th>Jill</th>\n",
       "    </tr>\n",
       "  </thead>\n",
       "  <tbody>\n",
       "    <tr>\n",
       "      <th>2000-01-01</th>\n",
       "      <td>1.1</td>\n",
       "      <td>0.90</td>\n",
       "    </tr>\n",
       "    <tr>\n",
       "      <th>2001-01-01</th>\n",
       "      <td>1.2</td>\n",
       "      <td>1.05</td>\n",
       "    </tr>\n",
       "    <tr>\n",
       "      <th>2002-01-01</th>\n",
       "      <td>1.3</td>\n",
       "      <td>1.30</td>\n",
       "    </tr>\n",
       "    <tr>\n",
       "      <th>2003-01-01</th>\n",
       "      <td>1.5</td>\n",
       "      <td>1.60</td>\n",
       "    </tr>\n",
       "  </tbody>\n",
       "</table>\n",
       "</div>"
      ],
      "text/plain": [
       "            Jack  Jill\n",
       "2000-01-01   1.1  0.90\n",
       "2001-01-01   1.2  1.05\n",
       "2002-01-01   1.3  1.30\n",
       "2003-01-01   1.5  1.60"
      ]
     },
     "execution_count": 29,
     "metadata": {},
     "output_type": "execute_result"
    }
   ],
   "source": [
    "df2.xs('Height', axis=1, level=1)"
   ]
  },
  {
   "cell_type": "code",
   "execution_count": 30,
   "id": "bcc8b528",
   "metadata": {},
   "outputs": [
    {
     "data": {
      "text/plain": [
       "MultiIndex([('Jack', 'Height'),\n",
       "            ('Jack',    'Age'),\n",
       "            ('Jill', 'Height'),\n",
       "            ('Jill',    'Age')],\n",
       "           )"
      ]
     },
     "execution_count": 30,
     "metadata": {},
     "output_type": "execute_result"
    }
   ],
   "source": [
    "df2.columns"
   ]
  },
  {
   "cell_type": "code",
   "execution_count": 33,
   "id": "72eec8f7",
   "metadata": {},
   "outputs": [
    {
     "data": {
      "text/plain": [
       "MultiIndex([('Jack', 'Height'),\n",
       "            ('Jack',    'Age'),\n",
       "            ('Jill', 'Height'),\n",
       "            ('Jill',    'Age')],\n",
       "           names=['name', 'info'])"
      ]
     },
     "execution_count": 33,
     "metadata": {},
     "output_type": "execute_result"
    }
   ],
   "source": [
    "df2.columns.names = ['name', 'info']\n",
    "df2.columns"
   ]
  },
  {
   "cell_type": "code",
   "execution_count": 37,
   "id": "d4b97094",
   "metadata": {},
   "outputs": [
    {
     "data": {
      "text/html": [
       "<div>\n",
       "<style scoped>\n",
       "    .dataframe tbody tr th:only-of-type {\n",
       "        vertical-align: middle;\n",
       "    }\n",
       "\n",
       "    .dataframe tbody tr th {\n",
       "        vertical-align: top;\n",
       "    }\n",
       "\n",
       "    .dataframe thead th {\n",
       "        text-align: right;\n",
       "    }\n",
       "</style>\n",
       "<table border=\"1\" class=\"dataframe\">\n",
       "  <thead>\n",
       "    <tr style=\"text-align: right;\">\n",
       "      <th>name</th>\n",
       "      <th>Jack</th>\n",
       "      <th>Jill</th>\n",
       "    </tr>\n",
       "  </thead>\n",
       "  <tbody>\n",
       "    <tr>\n",
       "      <th>2000-01-01</th>\n",
       "      <td>1.1</td>\n",
       "      <td>0.90</td>\n",
       "    </tr>\n",
       "    <tr>\n",
       "      <th>2001-01-01</th>\n",
       "      <td>1.2</td>\n",
       "      <td>1.05</td>\n",
       "    </tr>\n",
       "    <tr>\n",
       "      <th>2002-01-01</th>\n",
       "      <td>1.3</td>\n",
       "      <td>1.30</td>\n",
       "    </tr>\n",
       "    <tr>\n",
       "      <th>2003-01-01</th>\n",
       "      <td>1.5</td>\n",
       "      <td>1.60</td>\n",
       "    </tr>\n",
       "  </tbody>\n",
       "</table>\n",
       "</div>"
      ],
      "text/plain": [
       "name        Jack  Jill\n",
       "2000-01-01   1.1  0.90\n",
       "2001-01-01   1.2  1.05\n",
       "2002-01-01   1.3  1.30\n",
       "2003-01-01   1.5  1.60"
      ]
     },
     "execution_count": 37,
     "metadata": {},
     "output_type": "execute_result"
    }
   ],
   "source": [
    "df2.xs('Height', level='info', axis=1)"
   ]
  },
  {
   "cell_type": "code",
   "execution_count": null,
   "id": "473b0d36",
   "metadata": {},
   "outputs": [],
   "source": []
  }
 ],
 "metadata": {
  "kernelspec": {
   "display_name": "Python 3 (ipykernel)",
   "language": "python",
   "name": "python3"
  },
  "language_info": {
   "codemirror_mode": {
    "name": "ipython",
    "version": 3
   },
   "file_extension": ".py",
   "mimetype": "text/x-python",
   "name": "python",
   "nbconvert_exporter": "python",
   "pygments_lexer": "ipython3",
   "version": "3.12.5"
  }
 },
 "nbformat": 4,
 "nbformat_minor": 5
}
