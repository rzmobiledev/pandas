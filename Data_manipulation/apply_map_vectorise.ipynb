{
 "cells": [
  {
   "cell_type": "markdown",
   "id": "f7b38b07",
   "metadata": {},
   "source": [
    "# Basics - Apply, Map and Vectorised Functions"
   ]
  },
  {
   "cell_type": "code",
   "execution_count": 1,
   "id": "07dd8f67",
   "metadata": {},
   "outputs": [],
   "source": [
    "import pandas as pd\n",
    "import numpy as np"
   ]
  },
  {
   "cell_type": "code",
   "execution_count": 3,
   "id": "78376bcc",
   "metadata": {},
   "outputs": [
    {
     "data": {
      "text/html": [
       "<div>\n",
       "<style scoped>\n",
       "    .dataframe tbody tr th:only-of-type {\n",
       "        vertical-align: middle;\n",
       "    }\n",
       "\n",
       "    .dataframe tbody tr th {\n",
       "        vertical-align: top;\n",
       "    }\n",
       "\n",
       "    .dataframe thead th {\n",
       "        text-align: right;\n",
       "    }\n",
       "</style>\n",
       "<table border=\"1\" class=\"dataframe\">\n",
       "  <thead>\n",
       "    <tr style=\"text-align: right;\">\n",
       "      <th></th>\n",
       "      <th>A</th>\n",
       "      <th>B</th>\n",
       "      <th>C</th>\n",
       "    </tr>\n",
       "  </thead>\n",
       "  <tbody>\n",
       "    <tr>\n",
       "      <th>0</th>\n",
       "      <td>0.24</td>\n",
       "      <td>-0.03</td>\n",
       "      <td>0.96</td>\n",
       "    </tr>\n",
       "    <tr>\n",
       "      <th>1</th>\n",
       "      <td>1.30</td>\n",
       "      <td>0.26</td>\n",
       "      <td>0.62</td>\n",
       "    </tr>\n",
       "    <tr>\n",
       "      <th>2</th>\n",
       "      <td>0.12</td>\n",
       "      <td>-0.04</td>\n",
       "      <td>-0.59</td>\n",
       "    </tr>\n",
       "    <tr>\n",
       "      <th>3</th>\n",
       "      <td>-0.51</td>\n",
       "      <td>0.28</td>\n",
       "      <td>-0.93</td>\n",
       "    </tr>\n",
       "  </tbody>\n",
       "</table>\n",
       "</div>"
      ],
      "text/plain": [
       "      A     B     C\n",
       "0  0.24 -0.03  0.96\n",
       "1  1.30  0.26  0.62\n",
       "2  0.12 -0.04 -0.59\n",
       "3 -0.51  0.28 -0.93"
      ]
     },
     "execution_count": 3,
     "metadata": {},
     "output_type": "execute_result"
    }
   ],
   "source": [
    "data = np.round(np.random.normal(size=(4,3)), 2)\n",
    "df = pd.DataFrame(data, columns=['A','B','C'])\n",
    "df"
   ]
  },
  {
   "cell_type": "markdown",
   "id": "550d36b9",
   "metadata": {},
   "source": [
    "## Apply\n",
    "Used to execute an arbitrary function again an entire dataframe, or subsection. Applies in a vectorised fashion."
   ]
  },
  {
   "cell_type": "code",
   "execution_count": 4,
   "id": "ab313eaa",
   "metadata": {},
   "outputs": [
    {
     "data": {
      "text/html": [
       "<div>\n",
       "<style scoped>\n",
       "    .dataframe tbody tr th:only-of-type {\n",
       "        vertical-align: middle;\n",
       "    }\n",
       "\n",
       "    .dataframe tbody tr th {\n",
       "        vertical-align: top;\n",
       "    }\n",
       "\n",
       "    .dataframe thead th {\n",
       "        text-align: right;\n",
       "    }\n",
       "</style>\n",
       "<table border=\"1\" class=\"dataframe\">\n",
       "  <thead>\n",
       "    <tr style=\"text-align: right;\">\n",
       "      <th></th>\n",
       "      <th>A</th>\n",
       "      <th>B</th>\n",
       "      <th>C</th>\n",
       "    </tr>\n",
       "  </thead>\n",
       "  <tbody>\n",
       "    <tr>\n",
       "      <th>0</th>\n",
       "      <td>1.24</td>\n",
       "      <td>1.03</td>\n",
       "      <td>1.96</td>\n",
       "    </tr>\n",
       "    <tr>\n",
       "      <th>1</th>\n",
       "      <td>2.30</td>\n",
       "      <td>1.26</td>\n",
       "      <td>1.62</td>\n",
       "    </tr>\n",
       "    <tr>\n",
       "      <th>2</th>\n",
       "      <td>1.12</td>\n",
       "      <td>1.04</td>\n",
       "      <td>1.59</td>\n",
       "    </tr>\n",
       "    <tr>\n",
       "      <th>3</th>\n",
       "      <td>1.51</td>\n",
       "      <td>1.28</td>\n",
       "      <td>1.93</td>\n",
       "    </tr>\n",
       "  </tbody>\n",
       "</table>\n",
       "</div>"
      ],
      "text/plain": [
       "      A     B     C\n",
       "0  1.24  1.03  1.96\n",
       "1  2.30  1.26  1.62\n",
       "2  1.12  1.04  1.59\n",
       "3  1.51  1.28  1.93"
      ]
     },
     "execution_count": 4,
     "metadata": {},
     "output_type": "execute_result"
    }
   ],
   "source": [
    "df.apply(lambda x: 1 + np.abs(x))"
   ]
  },
  {
   "cell_type": "code",
   "execution_count": 5,
   "id": "e2ae1ea7",
   "metadata": {},
   "outputs": [
    {
     "data": {
      "text/plain": [
       "0    0.24\n",
       "1    1.30\n",
       "2    0.12\n",
       "3    0.51\n",
       "Name: A, dtype: float64"
      ]
     },
     "execution_count": 5,
     "metadata": {},
     "output_type": "execute_result"
    }
   ],
   "source": [
    "df.A.apply(np.abs)"
   ]
  },
  {
   "cell_type": "markdown",
   "id": "a78b3662",
   "metadata": {},
   "source": [
    "### Things to note here\n",
    "Becareful when using apply as it will overwrite original data"
   ]
  },
  {
   "cell_type": "code",
   "execution_count": 8,
   "id": "26829d47",
   "metadata": {},
   "outputs": [
    {
     "data": {
      "text/html": [
       "<div>\n",
       "<style scoped>\n",
       "    .dataframe tbody tr th:only-of-type {\n",
       "        vertical-align: middle;\n",
       "    }\n",
       "\n",
       "    .dataframe tbody tr th {\n",
       "        vertical-align: top;\n",
       "    }\n",
       "\n",
       "    .dataframe thead th {\n",
       "        text-align: right;\n",
       "    }\n",
       "</style>\n",
       "<table border=\"1\" class=\"dataframe\">\n",
       "  <thead>\n",
       "    <tr style=\"text-align: right;\">\n",
       "      <th></th>\n",
       "      <th>A</th>\n",
       "      <th>B</th>\n",
       "      <th>C</th>\n",
       "    </tr>\n",
       "  </thead>\n",
       "  <tbody>\n",
       "    <tr>\n",
       "      <th>0</th>\n",
       "      <td>0.48</td>\n",
       "      <td>-0.03</td>\n",
       "      <td>1.92</td>\n",
       "    </tr>\n",
       "    <tr>\n",
       "      <th>1</th>\n",
       "      <td>2.60</td>\n",
       "      <td>0.52</td>\n",
       "      <td>1.24</td>\n",
       "    </tr>\n",
       "    <tr>\n",
       "      <th>2</th>\n",
       "      <td>0.24</td>\n",
       "      <td>-0.04</td>\n",
       "      <td>-0.59</td>\n",
       "    </tr>\n",
       "    <tr>\n",
       "      <th>3</th>\n",
       "      <td>-0.51</td>\n",
       "      <td>0.56</td>\n",
       "      <td>-0.93</td>\n",
       "    </tr>\n",
       "  </tbody>\n",
       "</table>\n",
       "</div>"
      ],
      "text/plain": [
       "      A     B     C\n",
       "0  0.48 -0.03  1.92\n",
       "1  2.60  0.52  1.24\n",
       "2  0.24 -0.04 -0.59\n",
       "3 -0.51  0.56 -0.93"
      ]
     },
     "execution_count": 8,
     "metadata": {},
     "output_type": "execute_result"
    }
   ],
   "source": [
    "# give an example\n",
    "def double_if_positive(x):\n",
    "    # copy original value first\n",
    "    x = x.copy()\n",
    "    x[x > 0] *= 2 # remember x here is a list, not a single value\n",
    "    return x\n",
    "\n",
    "df.apply(double_if_positive, raw=True)"
   ]
  },
  {
   "cell_type": "markdown",
   "id": "5f3b5470",
   "metadata": {},
   "source": [
    "## Map\n",
    "Similar to apply, but operators on Series, and uses dictionary based inputs rather than an array of values."
   ]
  },
  {
   "cell_type": "code",
   "execution_count": 9,
   "id": "b865322c",
   "metadata": {},
   "outputs": [
    {
     "data": {
      "text/plain": [
       "0    Stephen\n",
       "1        NaN\n",
       "2        NaN\n",
       "3        NaN\n",
       "dtype: object"
      ]
     },
     "execution_count": 9,
     "metadata": {},
     "output_type": "execute_result"
    }
   ],
   "source": [
    "series = pd.Series(['Steve', 'Alex', 'Jess', 'Mark'])\n",
    "series.map({'Steve': 'Stephen'})"
   ]
  },
  {
   "cell_type": "code",
   "execution_count": 11,
   "id": "34cd7b8f",
   "metadata": {},
   "outputs": [
    {
     "data": {
      "text/plain": [
       "0    I am Steve\n",
       "1     I am Alex\n",
       "2     I am Jess\n",
       "3     I am Mark\n",
       "dtype: object"
      ]
     },
     "execution_count": 11,
     "metadata": {},
     "output_type": "execute_result"
    }
   ],
   "source": [
    "series.map(lambda x: f'I am {x}')"
   ]
  },
  {
   "cell_type": "markdown",
   "id": "acfa9b03",
   "metadata": {},
   "source": [
    "## Vectorised functions\n",
    "Pandas and numpy obviously have tons of these, here are some examples"
   ]
  },
  {
   "cell_type": "code",
   "execution_count": 12,
   "id": "c98402b8",
   "metadata": {},
   "outputs": [
    {
     "data": {
      "text/html": [
       "<div>\n",
       "<style scoped>\n",
       "    .dataframe tbody tr th:only-of-type {\n",
       "        vertical-align: middle;\n",
       "    }\n",
       "\n",
       "    .dataframe tbody tr th {\n",
       "        vertical-align: top;\n",
       "    }\n",
       "\n",
       "    .dataframe thead th {\n",
       "        text-align: right;\n",
       "    }\n",
       "</style>\n",
       "<table border=\"1\" class=\"dataframe\">\n",
       "  <thead>\n",
       "    <tr style=\"text-align: right;\">\n",
       "      <th></th>\n",
       "      <th>A</th>\n",
       "      <th>B</th>\n",
       "      <th>C</th>\n",
       "    </tr>\n",
       "  </thead>\n",
       "  <tbody>\n",
       "    <tr>\n",
       "      <th>0</th>\n",
       "      <td>0.24</td>\n",
       "      <td>-0.03</td>\n",
       "      <td>0.96</td>\n",
       "    </tr>\n",
       "    <tr>\n",
       "      <th>1</th>\n",
       "      <td>1.30</td>\n",
       "      <td>0.26</td>\n",
       "      <td>0.62</td>\n",
       "    </tr>\n",
       "    <tr>\n",
       "      <th>2</th>\n",
       "      <td>0.12</td>\n",
       "      <td>-0.04</td>\n",
       "      <td>-0.59</td>\n",
       "    </tr>\n",
       "    <tr>\n",
       "      <th>3</th>\n",
       "      <td>-0.51</td>\n",
       "      <td>0.28</td>\n",
       "      <td>-0.93</td>\n",
       "    </tr>\n",
       "  </tbody>\n",
       "</table>\n",
       "</div>"
      ],
      "text/plain": [
       "      A     B     C\n",
       "0  0.24 -0.03  0.96\n",
       "1  1.30  0.26  0.62\n",
       "2  0.12 -0.04 -0.59\n",
       "3 -0.51  0.28 -0.93"
      ]
     },
     "metadata": {},
     "output_type": "display_data"
    },
    {
     "data": {
      "text/html": [
       "<div>\n",
       "<style scoped>\n",
       "    .dataframe tbody tr th:only-of-type {\n",
       "        vertical-align: middle;\n",
       "    }\n",
       "\n",
       "    .dataframe tbody tr th {\n",
       "        vertical-align: top;\n",
       "    }\n",
       "\n",
       "    .dataframe thead th {\n",
       "        text-align: right;\n",
       "    }\n",
       "</style>\n",
       "<table border=\"1\" class=\"dataframe\">\n",
       "  <thead>\n",
       "    <tr style=\"text-align: right;\">\n",
       "      <th></th>\n",
       "      <th>A</th>\n",
       "      <th>B</th>\n",
       "      <th>C</th>\n",
       "    </tr>\n",
       "  </thead>\n",
       "  <tbody>\n",
       "    <tr>\n",
       "      <th>0</th>\n",
       "      <td>0.24</td>\n",
       "      <td>0.03</td>\n",
       "      <td>0.96</td>\n",
       "    </tr>\n",
       "    <tr>\n",
       "      <th>1</th>\n",
       "      <td>1.30</td>\n",
       "      <td>0.26</td>\n",
       "      <td>0.62</td>\n",
       "    </tr>\n",
       "    <tr>\n",
       "      <th>2</th>\n",
       "      <td>0.12</td>\n",
       "      <td>0.04</td>\n",
       "      <td>0.59</td>\n",
       "    </tr>\n",
       "    <tr>\n",
       "      <th>3</th>\n",
       "      <td>0.51</td>\n",
       "      <td>0.28</td>\n",
       "      <td>0.93</td>\n",
       "    </tr>\n",
       "  </tbody>\n",
       "</table>\n",
       "</div>"
      ],
      "text/plain": [
       "      A     B     C\n",
       "0  0.24  0.03  0.96\n",
       "1  1.30  0.26  0.62\n",
       "2  0.12  0.04  0.59\n",
       "3  0.51  0.28  0.93"
      ]
     },
     "metadata": {},
     "output_type": "display_data"
    }
   ],
   "source": [
    "display(df, df.abs())"
   ]
  },
  {
   "cell_type": "code",
   "execution_count": 13,
   "id": "217b3dfa",
   "metadata": {},
   "outputs": [
    {
     "data": {
      "text/plain": [
       "0    [Obi-Wan, Kenobi]\n",
       "1    [Luke, Skywalker]\n",
       "2          [Han, Solo]\n",
       "3       [Leia, Organa]\n",
       "dtype: object"
      ]
     },
     "execution_count": 13,
     "metadata": {},
     "output_type": "execute_result"
    }
   ],
   "source": [
    "series = pd.Series(['Obi-Wan Kenobi', 'Luke Skywalker', 'Han Solo', 'Leia Organa'])\n",
    "series.str.split()"
   ]
  },
  {
   "cell_type": "code",
   "execution_count": 14,
   "id": "f4240976",
   "metadata": {},
   "outputs": [
    {
     "data": {
      "text/html": [
       "<div>\n",
       "<style scoped>\n",
       "    .dataframe tbody tr th:only-of-type {\n",
       "        vertical-align: middle;\n",
       "    }\n",
       "\n",
       "    .dataframe tbody tr th {\n",
       "        vertical-align: top;\n",
       "    }\n",
       "\n",
       "    .dataframe thead th {\n",
       "        text-align: right;\n",
       "    }\n",
       "</style>\n",
       "<table border=\"1\" class=\"dataframe\">\n",
       "  <thead>\n",
       "    <tr style=\"text-align: right;\">\n",
       "      <th></th>\n",
       "      <th>0</th>\n",
       "      <th>1</th>\n",
       "    </tr>\n",
       "  </thead>\n",
       "  <tbody>\n",
       "    <tr>\n",
       "      <th>0</th>\n",
       "      <td>Obi-Wan</td>\n",
       "      <td>Kenobi</td>\n",
       "    </tr>\n",
       "    <tr>\n",
       "      <th>1</th>\n",
       "      <td>Luke</td>\n",
       "      <td>Skywalker</td>\n",
       "    </tr>\n",
       "    <tr>\n",
       "      <th>2</th>\n",
       "      <td>Han</td>\n",
       "      <td>Solo</td>\n",
       "    </tr>\n",
       "    <tr>\n",
       "      <th>3</th>\n",
       "      <td>Leia</td>\n",
       "      <td>Organa</td>\n",
       "    </tr>\n",
       "  </tbody>\n",
       "</table>\n",
       "</div>"
      ],
      "text/plain": [
       "         0          1\n",
       "0  Obi-Wan     Kenobi\n",
       "1     Luke  Skywalker\n",
       "2      Han       Solo\n",
       "3     Leia     Organa"
      ]
     },
     "execution_count": 14,
     "metadata": {},
     "output_type": "execute_result"
    }
   ],
   "source": [
    "# you can turn the series into dataframe like\n",
    "series.str.split(expand=True)"
   ]
  },
  {
   "cell_type": "code",
   "execution_count": 15,
   "id": "e4d242a3",
   "metadata": {},
   "outputs": [
    {
     "data": {
      "text/plain": [
       "0    False\n",
       "1     True\n",
       "2    False\n",
       "3    False\n",
       "dtype: bool"
      ]
     },
     "execution_count": 15,
     "metadata": {},
     "output_type": "execute_result"
    }
   ],
   "source": [
    "# get particular value\n",
    "series.str.contains('Skywalker')"
   ]
  },
  {
   "cell_type": "code",
   "execution_count": 16,
   "id": "467fd9e3",
   "metadata": {},
   "outputs": [
    {
     "data": {
      "text/plain": [
       "0    OBI-WAN KENOBI\n",
       "1    LUKE SKYWALKER\n",
       "2          HAN SOLO\n",
       "3       LEIA ORGANA\n",
       "dtype: object"
      ]
     },
     "execution_count": 16,
     "metadata": {},
     "output_type": "execute_result"
    }
   ],
   "source": [
    "series.str.upper()"
   ]
  },
  {
   "cell_type": "markdown",
   "id": "d4b18268",
   "metadata": {},
   "source": [
    "## User defined functions\n",
    "Let's investigate a super simple example of trying to find the hypotenuse given x and y distances."
   ]
  },
  {
   "cell_type": "code",
   "execution_count": 18,
   "id": "c3547f8f",
   "metadata": {},
   "outputs": [],
   "source": [
    "data2 = np.random.normal(10, 2, size=(100000, 2))\n",
    "df2 = pd.DataFrame(data2, columns=['x', 'y'])"
   ]
  },
  {
   "cell_type": "code",
   "execution_count": 21,
   "id": "c6e334a1",
   "metadata": {},
   "outputs": [
    {
     "data": {
      "text/plain": [
       "np.float64(12.39732233274286)"
      ]
     },
     "execution_count": 21,
     "metadata": {},
     "output_type": "execute_result"
    }
   ],
   "source": [
    "hypot = (df2.x **2 + df2.y **2)**0.5\n",
    "hypot[0]"
   ]
  },
  {
   "cell_type": "code",
   "execution_count": 23,
   "id": "6d0df1e3",
   "metadata": {},
   "outputs": [
    {
     "name": "stdout",
     "output_type": "stream",
     "text": [
      "12.39732233274286\n"
     ]
    }
   ],
   "source": [
    "# if you write it in a function\n",
    "# but it takes some miliseconds\n",
    "def hypot1(x,y):\n",
    "    return np.sqrt(x**2 + y**2)\n",
    "\n",
    "h1 = []\n",
    "for index, (x,y) in df2.iterrows():\n",
    "    h1.append(hypot1(x,y))\n",
    "print(h1[0])"
   ]
  },
  {
   "cell_type": "code",
   "execution_count": 25,
   "id": "ad69e197",
   "metadata": {},
   "outputs": [
    {
     "name": "stdout",
     "output_type": "stream",
     "text": [
      "12.39732233274286\n"
     ]
    }
   ],
   "source": [
    "# compare to this\n",
    "def hypot2(xs, ys):\n",
    "    return np.sqrt(xs**2 + ys**2)\n",
    "\n",
    "h2 = hypot2(df2.x, df2.y)\n",
    "print(h2[0])"
   ]
  },
  {
   "cell_type": "code",
   "execution_count": 27,
   "id": "70dadc0a",
   "metadata": {},
   "outputs": [
    {
     "data": {
      "text/plain": [
       "(100000, 2)"
      ]
     },
     "execution_count": 27,
     "metadata": {},
     "output_type": "execute_result"
    }
   ],
   "source": [
    "data2.shape"
   ]
  },
  {
   "cell_type": "markdown",
   "id": "d4f835d8",
   "metadata": {},
   "source": [
    "Vectorising everything you can is the key to speeding up your code. Once you've done that, you should use other tool to investigate. PyCharm Professional has a great optimisation tool built in. Jupyter has %lprun (line profiler) command you can find here: \\\n",
    "https://github.com/rkern/line_profiler\n",
    "\n",
    "## Recap\n",
    "- apply\n",
    "- map\n",
    "- .str & similar"
   ]
  }
 ],
 "metadata": {
  "kernelspec": {
   "display_name": "Python 3 (ipykernel)",
   "language": "python",
   "name": "python3"
  },
  "language_info": {
   "codemirror_mode": {
    "name": "ipython",
    "version": 3
   },
   "file_extension": ".py",
   "mimetype": "text/x-python",
   "name": "python",
   "nbconvert_exporter": "python",
   "pygments_lexer": "ipython3",
   "version": "3.12.5"
  }
 },
 "nbformat": 4,
 "nbformat_minor": 5
}
